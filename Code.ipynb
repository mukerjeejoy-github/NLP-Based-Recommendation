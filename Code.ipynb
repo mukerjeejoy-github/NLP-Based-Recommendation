{
 "cells": [
  {
   "cell_type": "code",
   "execution_count": 485,
   "id": "9ab101a9",
   "metadata": {
    "id": "9ab101a9"
   },
   "outputs": [],
   "source": [
    "#All the necessary imports used in the code\n",
    "import pandas as pd\n",
    "import numpy as np\n",
    "import re\n",
    "from collections import defaultdict, Counter\n",
    "import matplotlib.pyplot as plt\n",
    "import spacy\n",
    "import nltk\n",
    "from nltk.tokenize import word_tokenize\n",
    "from nltk.corpus import stopwords\n",
    "from nltk.stem import PorterStemmer,WordNetLemmatizer\n",
    "from nltk.corpus import stopwords\n",
    "from nltk.tokenize import word_tokenize\n",
    "from sklearn.model_selection import train_test_split\n",
    "from sklearn.feature_extraction.text import TfidfVectorizer\n",
    "from sklearn.metrics.pairwise import cosine_similarity\n",
    "from sklearn.decomposition import PCA\n",
    "import warnings"
   ]
  },
  {
   "cell_type": "code",
   "execution_count": 486,
   "id": "1bb624e4",
   "metadata": {},
   "outputs": [],
   "source": [
    "#Ignoring all warnings\n",
    "warnings.filterwarnings('ignore')"
   ]
  },
  {
   "cell_type": "code",
   "execution_count": null,
   "id": "46f71d32",
   "metadata": {},
   "outputs": [],
   "source": [
    "!pip install spacy"
   ]
  },
  {
   "cell_type": "code",
   "execution_count": null,
   "id": "f1616cfb",
   "metadata": {},
   "outputs": [],
   "source": [
    "!python -m spacy download en_core_web_sm"
   ]
  },
  {
   "cell_type": "markdown",
   "id": "58a448fa",
   "metadata": {},
   "source": [
    "## Part 1: Sentence comparison using N-gram"
   ]
  },
  {
   "cell_type": "code",
   "execution_count": 489,
   "id": "76a20802",
   "metadata": {
    "id": "76a20802"
   },
   "outputs": [],
   "source": [
    "df = pd.read_csv('IMDB.csv')"
   ]
  },
  {
   "cell_type": "code",
   "execution_count": 490,
   "id": "ac0fa383",
   "metadata": {
    "colab": {
     "base_uri": "https://localhost:8080/",
     "height": 206
    },
    "id": "ac0fa383",
    "outputId": "28a068e1-3d65-4920-ff5c-287234300e99"
   },
   "outputs": [
    {
     "data": {
      "text/html": [
       "<div>\n",
       "<style scoped>\n",
       "    .dataframe tbody tr th:only-of-type {\n",
       "        vertical-align: middle;\n",
       "    }\n",
       "\n",
       "    .dataframe tbody tr th {\n",
       "        vertical-align: top;\n",
       "    }\n",
       "\n",
       "    .dataframe thead th {\n",
       "        text-align: right;\n",
       "    }\n",
       "</style>\n",
       "<table border=\"1\" class=\"dataframe\">\n",
       "  <thead>\n",
       "    <tr style=\"text-align: right;\">\n",
       "      <th></th>\n",
       "      <th>ID</th>\n",
       "      <th>review</th>\n",
       "    </tr>\n",
       "  </thead>\n",
       "  <tbody>\n",
       "    <tr>\n",
       "      <th>0</th>\n",
       "      <td>1</td>\n",
       "      <td>One of the other reviewers has mentioned that ...</td>\n",
       "    </tr>\n",
       "    <tr>\n",
       "      <th>1</th>\n",
       "      <td>2</td>\n",
       "      <td>A wonderful little production. &lt;br /&gt;&lt;br /&gt;The...</td>\n",
       "    </tr>\n",
       "    <tr>\n",
       "      <th>2</th>\n",
       "      <td>3</td>\n",
       "      <td>I thought this was a wonderful way to spend ti...</td>\n",
       "    </tr>\n",
       "    <tr>\n",
       "      <th>3</th>\n",
       "      <td>4</td>\n",
       "      <td>Basically there's a family where a little boy ...</td>\n",
       "    </tr>\n",
       "    <tr>\n",
       "      <th>4</th>\n",
       "      <td>5</td>\n",
       "      <td>Petter Mattei's \"Love in the Time of Money\" is...</td>\n",
       "    </tr>\n",
       "  </tbody>\n",
       "</table>\n",
       "</div>"
      ],
      "text/plain": [
       "   ID                                             review\n",
       "0   1  One of the other reviewers has mentioned that ...\n",
       "1   2  A wonderful little production. <br /><br />The...\n",
       "2   3  I thought this was a wonderful way to spend ti...\n",
       "3   4  Basically there's a family where a little boy ...\n",
       "4   5  Petter Mattei's \"Love in the Time of Money\" is..."
      ]
     },
     "execution_count": 490,
     "metadata": {},
     "output_type": "execute_result"
    }
   ],
   "source": [
    "df.head()"
   ]
  },
  {
   "cell_type": "code",
   "execution_count": 491,
   "id": "f36b1f76",
   "metadata": {
    "colab": {
     "base_uri": "https://localhost:8080/"
    },
    "id": "f36b1f76",
    "outputId": "42a267b8-0f18-41ae-c14b-37e27a78cb05"
   },
   "outputs": [
    {
     "data": {
      "text/plain": [
       "(620, 2)"
      ]
     },
     "execution_count": 491,
     "metadata": {},
     "output_type": "execute_result"
    }
   ],
   "source": [
    "df.shape"
   ]
  },
  {
   "cell_type": "code",
   "execution_count": 492,
   "id": "1b9c373c",
   "metadata": {
    "colab": {
     "base_uri": "https://localhost:8080/"
    },
    "id": "1b9c373c",
    "outputId": "0d5c8c18-7eb7-4dd0-f40c-b6351c6bb2bb"
   },
   "outputs": [
    {
     "name": "stdout",
     "output_type": "stream",
     "text": [
      "<class 'pandas.core.frame.DataFrame'>\n",
      "RangeIndex: 620 entries, 0 to 619\n",
      "Data columns (total 2 columns):\n",
      " #   Column  Non-Null Count  Dtype \n",
      "---  ------  --------------  ----- \n",
      " 0   ID      620 non-null    int64 \n",
      " 1   review  620 non-null    object\n",
      "dtypes: int64(1), object(1)\n",
      "memory usage: 9.8+ KB\n"
     ]
    }
   ],
   "source": [
    "df.info()"
   ]
  },
  {
   "cell_type": "code",
   "execution_count": 493,
   "id": "2751adef",
   "metadata": {
    "colab": {
     "base_uri": "https://localhost:8080/"
    },
    "id": "2751adef",
    "outputId": "23248833-b3d0-4d13-cf5b-93824617a85c"
   },
   "outputs": [
    {
     "data": {
      "text/plain": [
       "ID        False\n",
       "review    False\n",
       "dtype: bool"
      ]
     },
     "execution_count": 493,
     "metadata": {},
     "output_type": "execute_result"
    }
   ],
   "source": [
    "#To check for null data in the dataset\n",
    "df.isnull().any()"
   ]
  },
  {
   "cell_type": "code",
   "execution_count": 494,
   "id": "35664aec",
   "metadata": {
    "colab": {
     "base_uri": "https://localhost:8080/"
    },
    "id": "35664aec",
    "outputId": "4f862355-2059-4e09-cfe8-a2892360e915"
   },
   "outputs": [
    {
     "data": {
      "text/plain": [
       "0"
      ]
     },
     "execution_count": 494,
     "metadata": {},
     "output_type": "execute_result"
    }
   ],
   "source": [
    "#Checking for duplicate rows across all columns\n",
    "duplicate_rows = df.duplicated()\n",
    "\n",
    "#Count the number of duplicate rows\n",
    "num_duplicate_rows = duplicate_rows.sum()\n",
    "num_duplicate_rows"
   ]
  },
  {
   "cell_type": "code",
   "execution_count": 495,
   "id": "b1e15ce4",
   "metadata": {},
   "outputs": [
    {
     "data": {
      "text/html": [
       "<div>\n",
       "<style scoped>\n",
       "    .dataframe tbody tr th:only-of-type {\n",
       "        vertical-align: middle;\n",
       "    }\n",
       "\n",
       "    .dataframe tbody tr th {\n",
       "        vertical-align: top;\n",
       "    }\n",
       "\n",
       "    .dataframe thead th {\n",
       "        text-align: right;\n",
       "    }\n",
       "</style>\n",
       "<table border=\"1\" class=\"dataframe\">\n",
       "  <thead>\n",
       "    <tr style=\"text-align: right;\">\n",
       "      <th></th>\n",
       "      <th>ID</th>\n",
       "      <th>review</th>\n",
       "    </tr>\n",
       "  </thead>\n",
       "  <tbody>\n",
       "    <tr>\n",
       "      <th>0</th>\n",
       "      <td>1</td>\n",
       "      <td>One of the other reviewers has mentioned that ...</td>\n",
       "    </tr>\n",
       "    <tr>\n",
       "      <th>1</th>\n",
       "      <td>2</td>\n",
       "      <td>A wonderful little production. &lt;br /&gt;&lt;br /&gt;The...</td>\n",
       "    </tr>\n",
       "    <tr>\n",
       "      <th>2</th>\n",
       "      <td>3</td>\n",
       "      <td>I thought this was a wonderful way to spend ti...</td>\n",
       "    </tr>\n",
       "    <tr>\n",
       "      <th>3</th>\n",
       "      <td>4</td>\n",
       "      <td>Basically there's a family where a little boy ...</td>\n",
       "    </tr>\n",
       "    <tr>\n",
       "      <th>4</th>\n",
       "      <td>5</td>\n",
       "      <td>Petter Mattei's \"Love in the Time of Money\" is...</td>\n",
       "    </tr>\n",
       "    <tr>\n",
       "      <th>...</th>\n",
       "      <td>...</td>\n",
       "      <td>...</td>\n",
       "    </tr>\n",
       "    <tr>\n",
       "      <th>615</th>\n",
       "      <td>616</td>\n",
       "      <td>It starts out like a very serious social comme...</td>\n",
       "    </tr>\n",
       "    <tr>\n",
       "      <th>616</th>\n",
       "      <td>617</td>\n",
       "      <td>This is my first Deepa Mehta film. I saw the f...</td>\n",
       "    </tr>\n",
       "    <tr>\n",
       "      <th>617</th>\n",
       "      <td>618</td>\n",
       "      <td>All the way though i was thinking to myself \"O...</td>\n",
       "    </tr>\n",
       "    <tr>\n",
       "      <th>618</th>\n",
       "      <td>619</td>\n",
       "      <td>At 2:37, a high school student commits suicide...</td>\n",
       "    </tr>\n",
       "    <tr>\n",
       "      <th>619</th>\n",
       "      <td>620</td>\n",
       "      <td>The quote above just about says it all for \"Sl...</td>\n",
       "    </tr>\n",
       "  </tbody>\n",
       "</table>\n",
       "<p>620 rows × 2 columns</p>\n",
       "</div>"
      ],
      "text/plain": [
       "      ID                                             review\n",
       "0      1  One of the other reviewers has mentioned that ...\n",
       "1      2  A wonderful little production. <br /><br />The...\n",
       "2      3  I thought this was a wonderful way to spend ti...\n",
       "3      4  Basically there's a family where a little boy ...\n",
       "4      5  Petter Mattei's \"Love in the Time of Money\" is...\n",
       "..   ...                                                ...\n",
       "615  616  It starts out like a very serious social comme...\n",
       "616  617  This is my first Deepa Mehta film. I saw the f...\n",
       "617  618  All the way though i was thinking to myself \"O...\n",
       "618  619  At 2:37, a high school student commits suicide...\n",
       "619  620  The quote above just about says it all for \"Sl...\n",
       "\n",
       "[620 rows x 2 columns]"
      ]
     },
     "execution_count": 495,
     "metadata": {},
     "output_type": "execute_result"
    }
   ],
   "source": [
    "#Displaying all results\n",
    "df[['ID', 'review']]"
   ]
  },
  {
   "cell_type": "code",
   "execution_count": 496,
   "id": "9c6b0353",
   "metadata": {
    "colab": {
     "base_uri": "https://localhost:8080/",
     "height": 191
    },
    "id": "9c6b0353",
    "outputId": "3514c712-181b-4cc9-b699-bc2b8eb950cf"
   },
   "outputs": [
    {
     "data": {
      "text/plain": [
       "\"One of the other reviewers has mentioned that after watching just 1 Oz episode you'll be hooked. They are right, as this is exactly what happened with me.<br /><br />The first thing that struck me about Oz was its brutality and unflinching scenes of violence, which set in right from the word GO. Trust me, this is not a show for the faint hearted or timid. This show pulls no punches with regards to drugs, sex or violence. Its is hardcore, in the classic use of the word.<br /><br />It is called OZ as that is the nickname given to the Oswald Maximum Security State Penitentary. It focuses mainly on Emerald City, an experimental section of the prison where all the cells have glass fronts and face inwards, so privacy is not high on the agenda. Em City is home to many..Aryans, Muslims, gangstas, Latinos, Christians, Italians, Irish and more....so scuffles, death stares, dodgy dealings and shady agreements are never far away.<br /><br />I would say the main appeal of the show is due to the fact that it goes where other shows wouldn't dare. Forget pretty pictures painted for mainstream audiences, forget charm, forget romance...OZ doesn't mess around. The first episode I ever saw struck me as so nasty it was surreal, I couldn't say I was ready for it, but as I watched more, I developed a taste for Oz, and got accustomed to the high levels of graphic violence. Not just violence, but injustice (crooked guards who'll be sold out for a nickel, inmates who'll kill on order and get away with it, well mannered, middle class inmates being turned into prison bitches due to their lack of street skills or prison experience) Watching Oz, you may become comfortable with what is uncomfortable viewing....thats if you can get in touch with your darker side.\""
      ]
     },
     "execution_count": 496,
     "metadata": {},
     "output_type": "execute_result"
    }
   ],
   "source": [
    "#Display the first review\n",
    "df['review'].iloc[0]"
   ]
  },
  {
   "cell_type": "code",
   "execution_count": 497,
   "id": "a8a0b79d",
   "metadata": {
    "id": "a8a0b79d"
   },
   "outputs": [],
   "source": [
    "'''Removing non-alphanumeric characters, punctuation marks and HTML tags such as <br> </br> as part of cleaning the data. Rest of\n",
    "the pre-processing tasks like Tokenization, Stop words removal done in further section'''\n",
    "def preprocess_text(text):\n",
    "    text = re.sub(r'<.*?>', '', text)  # Remove HTML tags\n",
    "    text = re.sub(r\"[.,?_]\",' ', text)     # Replace commas and periods with spaces\n",
    "    text = re.sub(r'[^\\w\\s]', '', text)  # Remove punctuation \n",
    "    text = re.sub(r'\\b\\d+\\b', '', text)  # Remove standalone numbers\n",
    "    text = re.sub(r'\\b\\w*\\d\\w*\\b', '', text)  # Remove sequences with digits\n",
    "    return text\n",
    "\n",
    "df['processed_text'] = df['review'].apply(preprocess_text)"
   ]
  },
  {
   "cell_type": "code",
   "execution_count": 498,
   "id": "f1db3764",
   "metadata": {
    "colab": {
     "base_uri": "https://localhost:8080/",
     "height": 191
    },
    "id": "f1db3764",
    "outputId": "831761f5-02a6-4e76-c8ba-00a8e618f21c"
   },
   "outputs": [
    {
     "data": {
      "text/plain": [
       "'One of the other reviewers has mentioned that after watching just  Oz episode youll be hooked  They are right  as this is exactly what happened with me The first thing that struck me about Oz was its brutality and unflinching scenes of violence  which set in right from the word GO  Trust me  this is not a show for the faint hearted or timid  This show pulls no punches with regards to drugs  sex or violence  Its is hardcore  in the classic use of the word It is called OZ as that is the nickname given to the Oswald Maximum Security State Penitentary  It focuses mainly on Emerald City  an experimental section of the prison where all the cells have glass fronts and face inwards  so privacy is not high on the agenda  Em City is home to many  Aryans  Muslims  gangstas  Latinos  Christians  Italians  Irish and more    so scuffles  death stares  dodgy dealings and shady agreements are never far away I would say the main appeal of the show is due to the fact that it goes where other shows wouldnt dare  Forget pretty pictures painted for mainstream audiences  forget charm  forget romance   OZ doesnt mess around  The first episode I ever saw struck me as so nasty it was surreal  I couldnt say I was ready for it  but as I watched more  I developed a taste for Oz  and got accustomed to the high levels of graphic violence  Not just violence  but injustice crooked guards wholl be sold out for a nickel  inmates wholl kill on order and get away with it  well mannered  middle class inmates being turned into prison bitches due to their lack of street skills or prison experience Watching Oz  you may become comfortable with what is uncomfortable viewing    thats if you can get in touch with your darker side '"
      ]
     },
     "execution_count": 498,
     "metadata": {},
     "output_type": "execute_result"
    }
   ],
   "source": [
    "#Printing the first review after removal\n",
    "df['processed_text'].iloc[0]"
   ]
  },
  {
   "cell_type": "code",
   "execution_count": 499,
   "id": "e3308194",
   "metadata": {
    "id": "e3308194"
   },
   "outputs": [],
   "source": [
    "# Generate bigrams from the corpus\n",
    "def generate_bigrams(text):\n",
    "    tokens = text.split()\n",
    "    bigrams = [(tokens[i], tokens[i+1]) for i in range(len(tokens)-1)]\n",
    "    return bigrams"
   ]
  },
  {
   "cell_type": "code",
   "execution_count": 500,
   "id": "e990acbf",
   "metadata": {
    "id": "e990acbf"
   },
   "outputs": [],
   "source": [
    "# Creating a bigram frequency dictionary\n",
    "bigram_freq = defaultdict(Counter)\n",
    "\n",
    "for text in df['processed_text']:\n",
    "    bigrams = generate_bigrams(text)\n",
    "    for w1, w2 in bigrams:\n",
    "        bigram_freq[w1][w2] += 1"
   ]
  },
  {
   "cell_type": "code",
   "execution_count": 501,
   "id": "ceb218e1",
   "metadata": {
    "id": "ceb218e1"
   },
   "outputs": [],
   "source": [
    "# Calculate bigram probabilities\n",
    "bigram_prob = defaultdict(dict)\n",
    "for w1 in bigram_freq:\n",
    "    total_count = float(sum(bigram_freq[w1].values()))\n",
    "    for w2 in bigram_freq[w1]:\n",
    "        bigram_prob[w1][w2] = bigram_freq[w1][w2] / total_count"
   ]
  },
  {
   "cell_type": "code",
   "execution_count": 502,
   "id": "e893df8c",
   "metadata": {
    "id": "e893df8c"
   },
   "outputs": [],
   "source": [
    "# Function to calculate the probability of a sentence\n",
    "def sentence_probability(sentence, bigram_prob):\n",
    "    sentence = preprocess_text(sentence)\n",
    "    bigrams = generate_bigrams(sentence)\n",
    "    prob = 1.0\n",
    "    for w1, w2 in bigrams:\n",
    "        if w1 in bigram_prob and w2 in bigram_prob[w1]:\n",
    "            prob *= bigram_prob[w1][w2]\n",
    "        else:\n",
    "            prob *= 1e-6  # Smoothing for unseen bigrams\n",
    "    return prob"
   ]
  },
  {
   "cell_type": "code",
   "execution_count": 503,
   "id": "cea25afd",
   "metadata": {
    "id": "cea25afd"
   },
   "outputs": [],
   "source": [
    "# Test sentences\n",
    "test_sentence_1 =  \"Petter Mattei's 'Love in the Time of Money' is a visually stunning film to watch.\"\n",
    "test_sentence_2 = \"I sure would like to see a resurrection of an updated Seahunt series with the tech they have today\""
   ]
  },
  {
   "cell_type": "code",
   "execution_count": 504,
   "id": "ababad51",
   "metadata": {
    "colab": {
     "base_uri": "https://localhost:8080/"
    },
    "id": "ababad51",
    "outputId": "01493c8a-4c7f-444f-ef5d-616ebce95247"
   },
   "outputs": [
    {
     "name": "stdout",
     "output_type": "stream",
     "text": [
      "Probability of Test Sentence 1: 3.0990253918476113e-20\n",
      "Probability of Test Sentence 2: 5.849009089175234e-40\n"
     ]
    }
   ],
   "source": [
    "# Calculate probabilities for test sentences\n",
    "prob_sentence_1 = sentence_probability(test_sentence_1,bigram_prob)\n",
    "prob_sentence_2 = sentence_probability(test_sentence_2,bigram_prob)\n",
    "\n",
    "print(f\"Probability of Test Sentence 1: {prob_sentence_1}\")\n",
    "print(f\"Probability of Test Sentence 2: {prob_sentence_2}\")"
   ]
  },
  {
   "cell_type": "code",
   "execution_count": 505,
   "id": "193dda4e",
   "metadata": {},
   "outputs": [
    {
     "name": "stdout",
     "output_type": "stream",
     "text": [
      "Test Sentence 1 is more relevant.\n"
     ]
    }
   ],
   "source": [
    "if prob_sentence_1 > prob_sentence_2:\n",
    "    recommendation = \"Test Sentence 1 is more relevant.\"\n",
    "else:\n",
    "    recommendation = \"Test Sentence 2 is more relevant.\"\n",
    "\n",
    "print(recommendation)\n"
   ]
  },
  {
   "cell_type": "markdown",
   "id": "51QPqdk1yiRZ",
   "metadata": {
    "id": "51QPqdk1yiRZ"
   },
   "source": [
    "# Part 2: \n",
    "### (i) Text pre-processing\n",
    "\n",
    "# a)Tokenization"
   ]
  },
  {
   "cell_type": "code",
   "execution_count": 506,
   "id": "yedVtiOVypHA",
   "metadata": {
    "colab": {
     "base_uri": "https://localhost:8080/",
     "height": 112
    },
    "id": "yedVtiOVypHA",
    "outputId": "ceb3317d-f50a-47f8-a447-d4290cd970ec"
   },
   "outputs": [
    {
     "data": {
      "text/html": [
       "<div>\n",
       "<style scoped>\n",
       "    .dataframe tbody tr th:only-of-type {\n",
       "        vertical-align: middle;\n",
       "    }\n",
       "\n",
       "    .dataframe tbody tr th {\n",
       "        vertical-align: top;\n",
       "    }\n",
       "\n",
       "    .dataframe thead th {\n",
       "        text-align: right;\n",
       "    }\n",
       "</style>\n",
       "<table border=\"1\" class=\"dataframe\">\n",
       "  <thead>\n",
       "    <tr style=\"text-align: right;\">\n",
       "      <th></th>\n",
       "      <th>ID</th>\n",
       "      <th>tokenized_review</th>\n",
       "    </tr>\n",
       "  </thead>\n",
       "  <tbody>\n",
       "    <tr>\n",
       "      <th>0</th>\n",
       "      <td>1</td>\n",
       "      <td>[One, of, the, other, reviewers, has, mentione...</td>\n",
       "    </tr>\n",
       "    <tr>\n",
       "      <th>1</th>\n",
       "      <td>2</td>\n",
       "      <td>[A, wonderful, little, production, The, filmin...</td>\n",
       "    </tr>\n",
       "    <tr>\n",
       "      <th>2</th>\n",
       "      <td>3</td>\n",
       "      <td>[I, thought, this, was, a, wonderful, way, to,...</td>\n",
       "    </tr>\n",
       "    <tr>\n",
       "      <th>3</th>\n",
       "      <td>4</td>\n",
       "      <td>[Basically, theres, a, family, where, a, littl...</td>\n",
       "    </tr>\n",
       "    <tr>\n",
       "      <th>4</th>\n",
       "      <td>5</td>\n",
       "      <td>[Petter, Matteis, Love, in, the, Time, of, Mon...</td>\n",
       "    </tr>\n",
       "    <tr>\n",
       "      <th>...</th>\n",
       "      <td>...</td>\n",
       "      <td>...</td>\n",
       "    </tr>\n",
       "    <tr>\n",
       "      <th>615</th>\n",
       "      <td>616</td>\n",
       "      <td>[It, starts, out, like, a, very, serious, soci...</td>\n",
       "    </tr>\n",
       "    <tr>\n",
       "      <th>616</th>\n",
       "      <td>617</td>\n",
       "      <td>[This, is, my, first, Deepa, Mehta, film, I, s...</td>\n",
       "    </tr>\n",
       "    <tr>\n",
       "      <th>617</th>\n",
       "      <td>618</td>\n",
       "      <td>[All, the, way, though, i, was, thinking, to, ...</td>\n",
       "    </tr>\n",
       "    <tr>\n",
       "      <th>618</th>\n",
       "      <td>619</td>\n",
       "      <td>[At, a, high, school, student, commits, suicid...</td>\n",
       "    </tr>\n",
       "    <tr>\n",
       "      <th>619</th>\n",
       "      <td>620</td>\n",
       "      <td>[The, quote, above, just, about, says, it, all...</td>\n",
       "    </tr>\n",
       "  </tbody>\n",
       "</table>\n",
       "<p>620 rows × 2 columns</p>\n",
       "</div>"
      ],
      "text/plain": [
       "      ID                                   tokenized_review\n",
       "0      1  [One, of, the, other, reviewers, has, mentione...\n",
       "1      2  [A, wonderful, little, production, The, filmin...\n",
       "2      3  [I, thought, this, was, a, wonderful, way, to,...\n",
       "3      4  [Basically, theres, a, family, where, a, littl...\n",
       "4      5  [Petter, Matteis, Love, in, the, Time, of, Mon...\n",
       "..   ...                                                ...\n",
       "615  616  [It, starts, out, like, a, very, serious, soci...\n",
       "616  617  [This, is, my, first, Deepa, Mehta, film, I, s...\n",
       "617  618  [All, the, way, though, i, was, thinking, to, ...\n",
       "618  619  [At, a, high, school, student, commits, suicid...\n",
       "619  620  [The, quote, above, just, about, says, it, all...\n",
       "\n",
       "[620 rows x 2 columns]"
      ]
     },
     "execution_count": 506,
     "metadata": {},
     "output_type": "execute_result"
    }
   ],
   "source": [
    "#Tokenization\n",
    "df['tokenized_review'] = df['processed_text'].apply(word_tokenize)\n",
    "\n",
    "#Displaying the results after lowercasing\n",
    "df[['ID', 'tokenized_review']]"
   ]
  },
  {
   "cell_type": "markdown",
   "id": "a7aqYPuXzdTb",
   "metadata": {
    "id": "a7aqYPuXzdTb"
   },
   "source": [
    "# b) Lowercasing"
   ]
  },
  {
   "cell_type": "code",
   "execution_count": 507,
   "id": "g5wVRxqFzgd6",
   "metadata": {
    "colab": {
     "base_uri": "https://localhost:8080/",
     "height": 112
    },
    "id": "g5wVRxqFzgd6",
    "outputId": "d8c7ed90-1b13-460b-a6e8-0915498aab2e"
   },
   "outputs": [
    {
     "data": {
      "text/html": [
       "<div>\n",
       "<style scoped>\n",
       "    .dataframe tbody tr th:only-of-type {\n",
       "        vertical-align: middle;\n",
       "    }\n",
       "\n",
       "    .dataframe tbody tr th {\n",
       "        vertical-align: top;\n",
       "    }\n",
       "\n",
       "    .dataframe thead th {\n",
       "        text-align: right;\n",
       "    }\n",
       "</style>\n",
       "<table border=\"1\" class=\"dataframe\">\n",
       "  <thead>\n",
       "    <tr style=\"text-align: right;\">\n",
       "      <th></th>\n",
       "      <th>ID</th>\n",
       "      <th>lowercased_review</th>\n",
       "    </tr>\n",
       "  </thead>\n",
       "  <tbody>\n",
       "    <tr>\n",
       "      <th>0</th>\n",
       "      <td>1</td>\n",
       "      <td>[one, of, the, other, reviewers, has, mentione...</td>\n",
       "    </tr>\n",
       "    <tr>\n",
       "      <th>1</th>\n",
       "      <td>2</td>\n",
       "      <td>[a, wonderful, little, production, the, filmin...</td>\n",
       "    </tr>\n",
       "    <tr>\n",
       "      <th>2</th>\n",
       "      <td>3</td>\n",
       "      <td>[i, thought, this, was, a, wonderful, way, to,...</td>\n",
       "    </tr>\n",
       "    <tr>\n",
       "      <th>3</th>\n",
       "      <td>4</td>\n",
       "      <td>[basically, theres, a, family, where, a, littl...</td>\n",
       "    </tr>\n",
       "    <tr>\n",
       "      <th>4</th>\n",
       "      <td>5</td>\n",
       "      <td>[petter, matteis, love, in, the, time, of, mon...</td>\n",
       "    </tr>\n",
       "    <tr>\n",
       "      <th>...</th>\n",
       "      <td>...</td>\n",
       "      <td>...</td>\n",
       "    </tr>\n",
       "    <tr>\n",
       "      <th>615</th>\n",
       "      <td>616</td>\n",
       "      <td>[it, starts, out, like, a, very, serious, soci...</td>\n",
       "    </tr>\n",
       "    <tr>\n",
       "      <th>616</th>\n",
       "      <td>617</td>\n",
       "      <td>[this, is, my, first, deepa, mehta, film, i, s...</td>\n",
       "    </tr>\n",
       "    <tr>\n",
       "      <th>617</th>\n",
       "      <td>618</td>\n",
       "      <td>[all, the, way, though, i, was, thinking, to, ...</td>\n",
       "    </tr>\n",
       "    <tr>\n",
       "      <th>618</th>\n",
       "      <td>619</td>\n",
       "      <td>[at, a, high, school, student, commits, suicid...</td>\n",
       "    </tr>\n",
       "    <tr>\n",
       "      <th>619</th>\n",
       "      <td>620</td>\n",
       "      <td>[the, quote, above, just, about, says, it, all...</td>\n",
       "    </tr>\n",
       "  </tbody>\n",
       "</table>\n",
       "<p>620 rows × 2 columns</p>\n",
       "</div>"
      ],
      "text/plain": [
       "      ID                                  lowercased_review\n",
       "0      1  [one, of, the, other, reviewers, has, mentione...\n",
       "1      2  [a, wonderful, little, production, the, filmin...\n",
       "2      3  [i, thought, this, was, a, wonderful, way, to,...\n",
       "3      4  [basically, theres, a, family, where, a, littl...\n",
       "4      5  [petter, matteis, love, in, the, time, of, mon...\n",
       "..   ...                                                ...\n",
       "615  616  [it, starts, out, like, a, very, serious, soci...\n",
       "616  617  [this, is, my, first, deepa, mehta, film, i, s...\n",
       "617  618  [all, the, way, though, i, was, thinking, to, ...\n",
       "618  619  [at, a, high, school, student, commits, suicid...\n",
       "619  620  [the, quote, above, just, about, says, it, all...\n",
       "\n",
       "[620 rows x 2 columns]"
      ]
     },
     "execution_count": 507,
     "metadata": {},
     "output_type": "execute_result"
    }
   ],
   "source": [
    "#Lowercasing\n",
    "df['lowercased_review'] = df['tokenized_review'].apply(lambda x: [token.lower() for token in x])\n",
    "\n",
    "#Displaying the results after lowercasing\n",
    "df[['ID', 'lowercased_review']]"
   ]
  },
  {
   "cell_type": "markdown",
   "id": "AoZpZtrdzik4",
   "metadata": {
    "id": "AoZpZtrdzik4"
   },
   "source": [
    "# c)Stop Word Removal"
   ]
  },
  {
   "cell_type": "code",
   "execution_count": 508,
   "id": "nzoTVtAtznLy",
   "metadata": {
    "colab": {
     "base_uri": "https://localhost:8080/",
     "height": 146
    },
    "id": "nzoTVtAtznLy",
    "outputId": "0cd73ff1-4a64-4cc3-f3b0-43b8ce4aea20"
   },
   "outputs": [
    {
     "name": "stderr",
     "output_type": "stream",
     "text": [
      "[nltk_data] Downloading package stopwords to C:\\Users\\Neha\n",
      "[nltk_data]     Mugloo\\AppData\\Roaming\\nltk_data...\n",
      "[nltk_data]   Package stopwords is already up-to-date!\n"
     ]
    },
    {
     "data": {
      "text/html": [
       "<div>\n",
       "<style scoped>\n",
       "    .dataframe tbody tr th:only-of-type {\n",
       "        vertical-align: middle;\n",
       "    }\n",
       "\n",
       "    .dataframe tbody tr th {\n",
       "        vertical-align: top;\n",
       "    }\n",
       "\n",
       "    .dataframe thead th {\n",
       "        text-align: right;\n",
       "    }\n",
       "</style>\n",
       "<table border=\"1\" class=\"dataframe\">\n",
       "  <thead>\n",
       "    <tr style=\"text-align: right;\">\n",
       "      <th></th>\n",
       "      <th>ID</th>\n",
       "      <th>stopwords_removed_review</th>\n",
       "    </tr>\n",
       "  </thead>\n",
       "  <tbody>\n",
       "    <tr>\n",
       "      <th>0</th>\n",
       "      <td>1</td>\n",
       "      <td>[one, reviewers, mentioned, watching, oz, epis...</td>\n",
       "    </tr>\n",
       "    <tr>\n",
       "      <th>1</th>\n",
       "      <td>2</td>\n",
       "      <td>[wonderful, little, production, filming, techn...</td>\n",
       "    </tr>\n",
       "    <tr>\n",
       "      <th>2</th>\n",
       "      <td>3</td>\n",
       "      <td>[thought, wonderful, way, spend, time, hot, su...</td>\n",
       "    </tr>\n",
       "    <tr>\n",
       "      <th>3</th>\n",
       "      <td>4</td>\n",
       "      <td>[basically, theres, family, little, boy, jake,...</td>\n",
       "    </tr>\n",
       "    <tr>\n",
       "      <th>4</th>\n",
       "      <td>5</td>\n",
       "      <td>[petter, matteis, love, time, money, visually,...</td>\n",
       "    </tr>\n",
       "    <tr>\n",
       "      <th>...</th>\n",
       "      <td>...</td>\n",
       "      <td>...</td>\n",
       "    </tr>\n",
       "    <tr>\n",
       "      <th>615</th>\n",
       "      <td>616</td>\n",
       "      <td>[starts, like, serious, social, commentary, qu...</td>\n",
       "    </tr>\n",
       "    <tr>\n",
       "      <th>616</th>\n",
       "      <td>617</td>\n",
       "      <td>[first, deepa, mehta, film, saw, film, tv, hin...</td>\n",
       "    </tr>\n",
       "    <tr>\n",
       "      <th>617</th>\n",
       "      <td>618</td>\n",
       "      <td>[way, though, thinking, oh, god, beginning, th...</td>\n",
       "    </tr>\n",
       "    <tr>\n",
       "      <th>618</th>\n",
       "      <td>619</td>\n",
       "      <td>[high, school, student, commits, suicide, show...</td>\n",
       "    </tr>\n",
       "    <tr>\n",
       "      <th>619</th>\n",
       "      <td>620</td>\n",
       "      <td>[quote, says, slipstream, bailed, film, first,...</td>\n",
       "    </tr>\n",
       "  </tbody>\n",
       "</table>\n",
       "<p>620 rows × 2 columns</p>\n",
       "</div>"
      ],
      "text/plain": [
       "      ID                           stopwords_removed_review\n",
       "0      1  [one, reviewers, mentioned, watching, oz, epis...\n",
       "1      2  [wonderful, little, production, filming, techn...\n",
       "2      3  [thought, wonderful, way, spend, time, hot, su...\n",
       "3      4  [basically, theres, family, little, boy, jake,...\n",
       "4      5  [petter, matteis, love, time, money, visually,...\n",
       "..   ...                                                ...\n",
       "615  616  [starts, like, serious, social, commentary, qu...\n",
       "616  617  [first, deepa, mehta, film, saw, film, tv, hin...\n",
       "617  618  [way, though, thinking, oh, god, beginning, th...\n",
       "618  619  [high, school, student, commits, suicide, show...\n",
       "619  620  [quote, says, slipstream, bailed, film, first,...\n",
       "\n",
       "[620 rows x 2 columns]"
      ]
     },
     "execution_count": 508,
     "metadata": {},
     "output_type": "execute_result"
    }
   ],
   "source": [
    "#Stop Words Removal\n",
    "nltk.download('stopwords')\n",
    "stop_words = set(stopwords.words('english'))\n",
    "\n",
    "df['stopwords_removed_review'] = df['lowercased_review'].apply(lambda x: [token for token in x if token not in stop_words])\n",
    "\n",
    "df[['ID', 'stopwords_removed_review']]"
   ]
  },
  {
   "cell_type": "markdown",
   "id": "iX8gwi8AzoXq",
   "metadata": {
    "id": "iX8gwi8AzoXq"
   },
   "source": [
    "# d) Stemming"
   ]
  },
  {
   "cell_type": "code",
   "execution_count": null,
   "id": "4DwAcZ4GzrY5",
   "metadata": {
    "colab": {
     "base_uri": "https://localhost:8080/",
     "height": 295
    },
    "id": "4DwAcZ4GzrY5",
    "outputId": "6e4ff3fd-f2fd-4118-ba00-f7c49c5520ff"
   },
   "outputs": [],
   "source": [
    "stemmer = PorterStemmer()\n",
    "# Stemming\n",
    "df['stemmed_review'] = df['stopwords_removed_review'].apply(lambda x: [stemmer.stem(token) for token in x])\n",
    "\n",
    "#Printing the df after stemming\n",
    "df[['ID', 'stemmed_review']]"
   ]
  },
  {
   "cell_type": "markdown",
   "id": "pWMtzLh51AnI",
   "metadata": {
    "id": "pWMtzLh51AnI"
   },
   "source": [
    "# e)Lemmatization"
   ]
  },
  {
   "cell_type": "code",
   "execution_count": null,
   "id": "F0FVXUCJ1Cdg",
   "metadata": {
    "colab": {
     "base_uri": "https://localhost:8080/",
     "height": 233
    },
    "id": "F0FVXUCJ1Cdg",
    "outputId": "520f791a-0e84-4328-82a2-98716be7b817"
   },
   "outputs": [],
   "source": [
    "# Download necessary NLTK data\n",
    "nltk.download('punkt')\n",
    "nltk.download('stopwords')\n",
    "\n",
    "# Initialize spacy's NLP model\n",
    "nlp = spacy.load(\"en_core_web_sm\")"
   ]
  },
  {
   "cell_type": "markdown",
   "id": "01f17742",
   "metadata": {},
   "source": [
    "Here, we are doing lemmatization over the stopwords_removed_review column rather than doing on stemmed_review. This is because lemmatization helps in getting the accurate word forms and preserving the context of the word, especially in applications requiring semantic understanding. We observed that stemming resulted in stems that were not easily interpretable in context, as they could be fragments or non-standard forms."
   ]
  },
  {
   "cell_type": "code",
   "execution_count": 511,
   "id": "773f9dd4",
   "metadata": {},
   "outputs": [
    {
     "data": {
      "text/html": [
       "<div>\n",
       "<style scoped>\n",
       "    .dataframe tbody tr th:only-of-type {\n",
       "        vertical-align: middle;\n",
       "    }\n",
       "\n",
       "    .dataframe tbody tr th {\n",
       "        vertical-align: top;\n",
       "    }\n",
       "\n",
       "    .dataframe thead th {\n",
       "        text-align: right;\n",
       "    }\n",
       "</style>\n",
       "<table border=\"1\" class=\"dataframe\">\n",
       "  <thead>\n",
       "    <tr style=\"text-align: right;\">\n",
       "      <th></th>\n",
       "      <th>ID</th>\n",
       "      <th>lemmatized_review</th>\n",
       "    </tr>\n",
       "  </thead>\n",
       "  <tbody>\n",
       "    <tr>\n",
       "      <th>0</th>\n",
       "      <td>1</td>\n",
       "      <td>[one, reviewer, mentioned, watching, oz, episo...</td>\n",
       "    </tr>\n",
       "    <tr>\n",
       "      <th>1</th>\n",
       "      <td>2</td>\n",
       "      <td>[wonderful, little, production, filming, techn...</td>\n",
       "    </tr>\n",
       "    <tr>\n",
       "      <th>2</th>\n",
       "      <td>3</td>\n",
       "      <td>[thought, wonderful, way, spend, time, hot, su...</td>\n",
       "    </tr>\n",
       "    <tr>\n",
       "      <th>3</th>\n",
       "      <td>4</td>\n",
       "      <td>[basically, there, family, little, boy, jake, ...</td>\n",
       "    </tr>\n",
       "    <tr>\n",
       "      <th>4</th>\n",
       "      <td>5</td>\n",
       "      <td>[petter, matteis, love, time, money, visually,...</td>\n",
       "    </tr>\n",
       "    <tr>\n",
       "      <th>...</th>\n",
       "      <td>...</td>\n",
       "      <td>...</td>\n",
       "    </tr>\n",
       "    <tr>\n",
       "      <th>615</th>\n",
       "      <td>616</td>\n",
       "      <td>[start, like, serious, social, commentary, qui...</td>\n",
       "    </tr>\n",
       "    <tr>\n",
       "      <th>616</th>\n",
       "      <td>617</td>\n",
       "      <td>[first, deepa, mehta, film, saw, film, tv, hin...</td>\n",
       "    </tr>\n",
       "    <tr>\n",
       "      <th>617</th>\n",
       "      <td>618</td>\n",
       "      <td>[way, though, thinking, oh, god, beginning, th...</td>\n",
       "    </tr>\n",
       "    <tr>\n",
       "      <th>618</th>\n",
       "      <td>619</td>\n",
       "      <td>[high, school, student, commits, suicide, show...</td>\n",
       "    </tr>\n",
       "    <tr>\n",
       "      <th>619</th>\n",
       "      <td>620</td>\n",
       "      <td>[quote, say, slipstream, bailed, film, first, ...</td>\n",
       "    </tr>\n",
       "  </tbody>\n",
       "</table>\n",
       "<p>620 rows × 2 columns</p>\n",
       "</div>"
      ],
      "text/plain": [
       "      ID                                  lemmatized_review\n",
       "0      1  [one, reviewer, mentioned, watching, oz, episo...\n",
       "1      2  [wonderful, little, production, filming, techn...\n",
       "2      3  [thought, wonderful, way, spend, time, hot, su...\n",
       "3      4  [basically, there, family, little, boy, jake, ...\n",
       "4      5  [petter, matteis, love, time, money, visually,...\n",
       "..   ...                                                ...\n",
       "615  616  [start, like, serious, social, commentary, qui...\n",
       "616  617  [first, deepa, mehta, film, saw, film, tv, hin...\n",
       "617  618  [way, though, thinking, oh, god, beginning, th...\n",
       "618  619  [high, school, student, commits, suicide, show...\n",
       "619  620  [quote, say, slipstream, bailed, film, first, ...\n",
       "\n",
       "[620 rows x 2 columns]"
      ]
     },
     "execution_count": 511,
     "metadata": {},
     "output_type": "execute_result"
    }
   ],
   "source": [
    "# Function for lemmatization\n",
    "def lemmatize(tokens):\n",
    "#     doc = nlp(\" \".join(tokens))\n",
    "    lemmatizer = WordNetLemmatizer()\n",
    "    return [lemmatizer.lemmatize(token) for token in tokens]\n",
    "#     return [token.lemma_ for token in doc]\n",
    "\n",
    "# Apply the lemmatization to the stemmed_review\n",
    "df['lemmatized_review'] = df['stopwords_removed_review'].apply(lambda x: lemmatize(x))\n",
    "\n",
    "# Display the dataframe after lemmatization\n",
    "df[['ID', 'lemmatized_review']]"
   ]
  },
  {
   "cell_type": "markdown",
   "id": "VQmBSV3T4fnl",
   "metadata": {
    "id": "VQmBSV3T4fnl"
   },
   "source": [
    "# (ii) Feature Extraction"
   ]
  },
  {
   "cell_type": "code",
   "execution_count": 512,
   "id": "ZKts4WQl4j--",
   "metadata": {
    "colab": {
     "base_uri": "https://localhost:8080/"
    },
    "id": "ZKts4WQl4j--",
    "outputId": "4bc66cf8-3a29-47e2-ed5f-acd21b5a7ecf"
   },
   "outputs": [],
   "source": [
    "# Convert tokenized data back to text for vectorization\n",
    "df['features'] = df['lemmatized_review'].apply(lambda x: ' '.join(x))"
   ]
  },
  {
   "cell_type": "code",
   "execution_count": 513,
   "id": "c24c744b",
   "metadata": {},
   "outputs": [
    {
     "data": {
      "text/html": [
       "<div>\n",
       "<style scoped>\n",
       "    .dataframe tbody tr th:only-of-type {\n",
       "        vertical-align: middle;\n",
       "    }\n",
       "\n",
       "    .dataframe tbody tr th {\n",
       "        vertical-align: top;\n",
       "    }\n",
       "\n",
       "    .dataframe thead th {\n",
       "        text-align: right;\n",
       "    }\n",
       "</style>\n",
       "<table border=\"1\" class=\"dataframe\">\n",
       "  <thead>\n",
       "    <tr style=\"text-align: right;\">\n",
       "      <th></th>\n",
       "      <th>ID</th>\n",
       "      <th>features</th>\n",
       "    </tr>\n",
       "  </thead>\n",
       "  <tbody>\n",
       "    <tr>\n",
       "      <th>0</th>\n",
       "      <td>1</td>\n",
       "      <td>one reviewer mentioned watching oz episode you...</td>\n",
       "    </tr>\n",
       "    <tr>\n",
       "      <th>1</th>\n",
       "      <td>2</td>\n",
       "      <td>wonderful little production filming technique ...</td>\n",
       "    </tr>\n",
       "    <tr>\n",
       "      <th>2</th>\n",
       "      <td>3</td>\n",
       "      <td>thought wonderful way spend time hot summer we...</td>\n",
       "    </tr>\n",
       "    <tr>\n",
       "      <th>3</th>\n",
       "      <td>4</td>\n",
       "      <td>basically there family little boy jake think t...</td>\n",
       "    </tr>\n",
       "    <tr>\n",
       "      <th>4</th>\n",
       "      <td>5</td>\n",
       "      <td>petter matteis love time money visually stunni...</td>\n",
       "    </tr>\n",
       "    <tr>\n",
       "      <th>...</th>\n",
       "      <td>...</td>\n",
       "      <td>...</td>\n",
       "    </tr>\n",
       "    <tr>\n",
       "      <th>615</th>\n",
       "      <td>616</td>\n",
       "      <td>start like serious social commentary quickly m...</td>\n",
       "    </tr>\n",
       "    <tr>\n",
       "      <th>616</th>\n",
       "      <td>617</td>\n",
       "      <td>first deepa mehta film saw film tv hindi versi...</td>\n",
       "    </tr>\n",
       "    <tr>\n",
       "      <th>617</th>\n",
       "      <td>618</td>\n",
       "      <td>way though thinking oh god beginning thought r...</td>\n",
       "    </tr>\n",
       "    <tr>\n",
       "      <th>618</th>\n",
       "      <td>619</td>\n",
       "      <td>high school student commits suicide shown take...</td>\n",
       "    </tr>\n",
       "    <tr>\n",
       "      <th>619</th>\n",
       "      <td>620</td>\n",
       "      <td>quote say slipstream bailed film first half ho...</td>\n",
       "    </tr>\n",
       "  </tbody>\n",
       "</table>\n",
       "<p>620 rows × 2 columns</p>\n",
       "</div>"
      ],
      "text/plain": [
       "      ID                                           features\n",
       "0      1  one reviewer mentioned watching oz episode you...\n",
       "1      2  wonderful little production filming technique ...\n",
       "2      3  thought wonderful way spend time hot summer we...\n",
       "3      4  basically there family little boy jake think t...\n",
       "4      5  petter matteis love time money visually stunni...\n",
       "..   ...                                                ...\n",
       "615  616  start like serious social commentary quickly m...\n",
       "616  617  first deepa mehta film saw film tv hindi versi...\n",
       "617  618  way though thinking oh god beginning thought r...\n",
       "618  619  high school student commits suicide shown take...\n",
       "619  620  quote say slipstream bailed film first half ho...\n",
       "\n",
       "[620 rows x 2 columns]"
      ]
     },
     "execution_count": 513,
     "metadata": {},
     "output_type": "execute_result"
    }
   ],
   "source": [
    "df[['ID','features']]"
   ]
  },
  {
   "cell_type": "code",
   "execution_count": null,
   "id": "6b7742d2",
   "metadata": {},
   "outputs": [],
   "source": [
    "df.head()"
   ]
  },
  {
   "cell_type": "code",
   "execution_count": null,
   "id": "87aa60f0",
   "metadata": {},
   "outputs": [],
   "source": [
    "#Creating word embeddings using TF-IDF Vectorization, as mentioned in the assignment\n",
    "tfidf_vectorizer = TfidfVectorizer(stop_words='english')\n",
    "tfidf = tfidf_vectorizer.fit_transform(df['features'])\n",
    "feature_names = tfidf_vectorizer.get_feature_names_out()\n",
    "tfidf"
   ]
  },
  {
   "cell_type": "code",
   "execution_count": 516,
   "id": "5efa5cc6",
   "metadata": {},
   "outputs": [],
   "source": [
    "# Convert to DataFrame (for visualization)\n",
    "tfidf_vector_df = pd.DataFrame(tfidf.toarray(), columns=feature_names)"
   ]
  },
  {
   "cell_type": "code",
   "execution_count": null,
   "id": "27d35422",
   "metadata": {},
   "outputs": [],
   "source": [
    "# Display the TF-IDF DataFrame\n",
    "tfidf_vector_df.head()"
   ]
  },
  {
   "cell_type": "code",
   "execution_count": null,
   "id": "8e1447fd",
   "metadata": {},
   "outputs": [],
   "source": [
    "tfidf_vector_df.shape"
   ]
  },
  {
   "cell_type": "markdown",
   "id": "XY8wFRCx5X7l",
   "metadata": {
    "id": "XY8wFRCx5X7l"
   },
   "source": [
    "# (iii) Similarity Analysis"
   ]
  },
  {
   "cell_type": "code",
   "execution_count": 519,
   "id": "ce51ba8d",
   "metadata": {},
   "outputs": [],
   "source": [
    "cosine_similarities = cosine_similarity(tfidf.T)  # Transpose to get words as rows"
   ]
  },
  {
   "cell_type": "code",
   "execution_count": null,
   "id": "af970d85",
   "metadata": {},
   "outputs": [],
   "source": [
    "cosine_similarities"
   ]
  },
  {
   "cell_type": "markdown",
   "id": "5c7d7d3e",
   "metadata": {},
   "source": [
    "## Why cosine similarity?\n",
    "We used cosine similarity to show the similarity between any two words in the corpus because\n",
    "Cosine similarity measures the cosine of the angle between two vectors (representing word embeddings or TF-IDF vectors in this context). It captures the direction and magnitude of similarity between vectors, which correlates with semantic similarity in the underlying text context.The cosine similarity score ranges from -1 (completely opposite directions) to 1 (exactly the same direction), with 0 indicating orthogonality (no relationship between the vectors). "
   ]
  },
  {
   "cell_type": "code",
   "execution_count": null,
   "id": "a91cc83a",
   "metadata": {},
   "outputs": [],
   "source": [
    "# #Function to find top k similar words\n",
    "def top_k_similar_words(word_index, k=2):\n",
    "    if word_index >= len(cosine_similarities):\n",
    "        raise IndexError(f\"Index {word_index} is out of bounds for axis 0 with size {len(cosine_similarities)}\")\n",
    "    \n",
    "    word_similarity = cosine_similarities[word_index]\n",
    "    # Sort indices in descending order to get top similarities\n",
    "    similar_word_indices = np.argsort(-word_similarity)[1:k+1]  # Exclude self-similarity\n",
    "    \n",
    "    # Retrieve similar words and their similarity scores\n",
    "    similar_words = [(feature_names[idx], word_similarity[idx]) for idx in similar_word_indices]\n",
    "    \n",
    "    return similar_words\n",
    "\n",
    "#Usage to find top 2 similar words for each word\n",
    "top_k = 2\n",
    "top_similar_words = {}\n",
    "\n",
    "for idx, word in enumerate(feature_names):\n",
    "    similar_words = top_k_similar_words(idx, k=top_k)\n",
    "    top_similar_words[word] = similar_words\n",
    "\n",
    "#Print the top k similar words for each word\n",
    "for word, similar_words in top_similar_words.items():\n",
    "    print(f\"Top {top_k} similar words for '{word}': {similar_words}\")\n"
   ]
  },
  {
   "cell_type": "markdown",
   "id": "9b5c7fd6",
   "metadata": {},
   "source": [
    "- Alternative approach to obtain results of greater accuracy would be to use embedding models like Word2Vec. \n",
    "- TF-IDF vectorization results in a high-dimensional sparse matrix where each document (or in this case, each word) is represented by a vector of term weights. This representation does not capture semantic relationships between words directly but rather focuses on the importance of words within documents. While it captures the importance of words based on their frequency and inverse document frequency, it does not encode semantic similarity or relationships between words beyond their statistical occurrences."
   ]
  },
  {
   "cell_type": "code",
   "execution_count": null,
   "id": "34b48534",
   "metadata": {},
   "outputs": [],
   "source": [
    "#Grouping the length of reviews\n",
    "df['review_length_category'] = pd.cut(df['features'].apply(len), bins=[0, 200, 500, 1000, np.inf], labels=['short', 'medium', 'long', 'very_long'], include_lowest=True)\n",
    "\n",
    "# Check for NaN values and remove them\n",
    "print(\"NaN values before dropping:\", df['review_length_category'].isna().sum())\n",
    "df.dropna(subset=['review_length_category'], inplace=True)\n",
    "print(\"NaN values after dropping:\", df['review_length_category'].isna().sum())"
   ]
  },
  {
   "cell_type": "markdown",
   "id": "74b96917",
   "metadata": {},
   "source": [
    "We are trying to create a dataframe here which groups the length of the reviews and also labels them into four categories:\n",
    "- Short: 0 to 200 characters\n",
    "- Medium: 201 to 500 characters\n",
    "- Long: 501 to 1000 characters\n",
    "- Very Long: Over 1000 characters\n",
    "\n",
    "It creates a new column review_length_category in df with these categorical labels. This helps in simplifying and analyzing the distribution of review lengths."
   ]
  },
  {
   "cell_type": "code",
   "execution_count": null,
   "id": "ccadd8d8",
   "metadata": {},
   "outputs": [],
   "source": [
    "# Stratified sampling\n",
    "_, tfidf_subset, _, indices_subset = train_test_split(tfidf, df.index, test_size=0.5, stratify=df['review_length_category'], random_state=42)\n",
    "\n",
    "#Use a smaller subset of indices for plotting\n",
    "subset_indices = np.random.choice(indices_subset, size=min(25, len(indices_subset)), replace=False)\n",
    "tfidf_subset = tfidf[subset_indices].toarray()\n",
    "indices_subset = df.loc[subset_indices, 'ID']\n",
    "\n",
    "# Print the shape of the subset\n",
    "print(\"Shape of the subset:\", tfidf_subset.shape)"
   ]
  },
  {
   "cell_type": "code",
   "execution_count": null,
   "id": "8ed64d41",
   "metadata": {},
   "outputs": [],
   "source": [
    "tfidf_subset"
   ]
  },
  {
   "cell_type": "code",
   "execution_count": 525,
   "id": "6eebbf33",
   "metadata": {},
   "outputs": [],
   "source": [
    "subset_features = [feature_names[i] for i in subset_indices]"
   ]
  },
  {
   "cell_type": "code",
   "execution_count": null,
   "id": "7bcff0e3",
   "metadata": {},
   "outputs": [],
   "source": [
    "subset_features"
   ]
  },
  {
   "cell_type": "markdown",
   "id": "835ddccc",
   "metadata": {},
   "source": [
    "### How the subset was selected from the embeddings?\n",
    "\n",
    "- In the context of visualizing vector embeddings in a 2D semantic space, a \"subset\" typically means a selected portion of the full dataset. This is often done for practical reasons, such as improving clarity and interpretability of the visualization, especially when dealing with very large datasets.\n",
    "- Plotting a very large number of points can make the visualization cluttered and hard to interpret.\n",
    "- Also, reducing the number of data points can significantly speed up computation and rendering times.\n",
    "- There are different ways to create subset like Random Sampling, Startified samling. While random sampling randomly selects a portion of the dataset, stratified sampling ensures the subset represents the distribution of the full dataset.\n",
    "- Hence, we chose Startified sampling in our case."
   ]
  },
  {
   "cell_type": "code",
   "execution_count": null,
   "id": "0ccf2d44",
   "metadata": {},
   "outputs": [],
   "source": [
    "# Visualize subset of vector embedding in 2D semantic space using PCA\n",
    "pca = PCA(n_components=2)\n",
    "X_pca = pca.fit_transform(tfidf_subset)\n",
    "X_pca"
   ]
  },
  {
   "cell_type": "code",
   "execution_count": 528,
   "id": "e6d0e8f9",
   "metadata": {},
   "outputs": [
    {
     "data": {
      "image/png": "[encoded data removed]",
      "text/plain": [
       "<Figure size 1000x1000 with 1 Axes>"
      ]
     },
     "metadata": {},
     "output_type": "display_data"
    }
   ],
   "source": [
    "# Plot the embeddings in 2D space\n",
    "plt.figure(figsize=(10, 10))\n",
    "for i, word in enumerate(X_pca):\n",
    "    plt.scatter(X_pca[i, 0], X_pca[i, 1])\n",
    "\n",
    "plt.title(\"Word Embeddings Visualization in 2D Space\")\n",
    "plt.xlabel(\"PCA Component 1\")\n",
    "plt.ylabel(\"PCA Component 2\")\n",
    "plt.grid(True)\n",
    "for i, txt in enumerate(subset_features):\n",
    "    plt.annotate(txt, (X_pca[i, 0], X_pca[i, 1]), fontsize=9)\n",
    "\n",
    "plt.show()"
   ]
  },
  {
   "cell_type": "code",
   "execution_count": null,
   "id": "eac2ce3f",
   "metadata": {},
   "outputs": [],
   "source": []
  }
 ],
 "metadata": {
  "colab": {
   "provenance": []
  },
  "kernelspec": {
   "display_name": "Python 3 (ipykernel)",
   "language": "python",
   "name": "python3"
  },
  "language_info": {
   "codemirror_mode": {
    "name": "ipython",
    "version": 3
   },
   "file_extension": ".py",
   "mimetype": "text/x-python",
   "name": "python",
   "nbconvert_exporter": "python",
   "pygments_lexer": "ipython3",
   "version": "3.11.4"
  }
 },
 "nbformat": 4,
 "nbformat_minor": 5
}
